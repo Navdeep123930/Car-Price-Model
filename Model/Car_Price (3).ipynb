{
  "nbformat": 4,
  "nbformat_minor": 0,
  "metadata": {
    "colab": {
      "name": "Car Price.ipynb",
      "provenance": []
    },
    "kernelspec": {
      "name": "python3",
      "display_name": "Python 3"
    }
  },
  "cells": [
    {
      "cell_type": "code",
      "metadata": {
        "id": "cIkfLiuOH0YK",
        "colab_type": "code",
        "colab": {}
      },
      "source": [
        "import tensorflow as tf \n",
        "from tensorflow import keras\n",
        "from tensorflow.keras.optimizers import RMSprop,Adam\n",
        "import pandas as pd\n",
        "import numpy as np"
      ],
      "execution_count": 1,
      "outputs": []
    },
    {
      "cell_type": "code",
      "metadata": {
        "id": "yrx0kB-zI628",
        "colab_type": "code",
        "colab": {}
      },
      "source": [
        "headers = [\"symboling\",\"normalized-losses\",\"make\",\"fuel-type\",\"aspiration\", \"num-of-doors\",\"body-style\",\n",
        "         \"drive-wheels\",\"engine-location\",\"wheel-base\", \"length\",\"width\",\"height\",\"curb-weight\",\"engine-type\",\n",
        "         \"num-of-cylinders\", \"engine-size\",\"fuel-system\",\"bore\",\"stroke\",\"compression-ratio\",\"horsepower\",\n",
        "         \"peak-rpm\",\"city-mpg\",\"highway-mpg\",\"price\"]\n",
        "file_path = \"https://s3-api.us-geo.objectstorage.softlayer.net/cf-courses-data/CognitiveClass/DA0101EN/auto.csv\"\n",
        "df = pd.read_csv(file_path, header=None)\n",
        "df.columns = headers\n",
        "df.replace(\"?\", np.nan, inplace = True)\n",
        "df[\"price\"] = pd.to_numeric(df[\"price\"])\n",
        "df[\"horsepower\"] = pd.to_numeric(df[\"horsepower\"])\n",
        "avg_price = df['price'].astype('float').mean(axis=0)\n",
        "df['price'].replace(np.nan, round(avg_price), inplace=True)\n",
        "avg_horsepower = df['horsepower'].astype('float').mean(axis=0)\n",
        "df['horsepower'].replace(np.nan, round(avg_horsepower), inplace=True)"
      ],
      "execution_count": 2,
      "outputs": []
    },
    {
      "cell_type": "code",
      "metadata": {
        "id": "4ResHTwz2qLq",
        "colab_type": "code",
        "colab": {
          "base_uri": "https://localhost:8080/",
          "height": 284
        },
        "outputId": "60425c2b-b8f5-460e-d504-2acd2ae7ff49"
      },
      "source": [
        "df.describe()"
      ],
      "execution_count": 3,
      "outputs": [
        {
          "output_type": "execute_result",
          "data": {
            "text/html": [
              "<div>\n",
              "<style scoped>\n",
              "    .dataframe tbody tr th:only-of-type {\n",
              "        vertical-align: middle;\n",
              "    }\n",
              "\n",
              "    .dataframe tbody tr th {\n",
              "        vertical-align: top;\n",
              "    }\n",
              "\n",
              "    .dataframe thead th {\n",
              "        text-align: right;\n",
              "    }\n",
              "</style>\n",
              "<table border=\"1\" class=\"dataframe\">\n",
              "  <thead>\n",
              "    <tr style=\"text-align: right;\">\n",
              "      <th></th>\n",
              "      <th>symboling</th>\n",
              "      <th>wheel-base</th>\n",
              "      <th>length</th>\n",
              "      <th>width</th>\n",
              "      <th>height</th>\n",
              "      <th>curb-weight</th>\n",
              "      <th>engine-size</th>\n",
              "      <th>compression-ratio</th>\n",
              "      <th>horsepower</th>\n",
              "      <th>city-mpg</th>\n",
              "      <th>highway-mpg</th>\n",
              "      <th>price</th>\n",
              "    </tr>\n",
              "  </thead>\n",
              "  <tbody>\n",
              "    <tr>\n",
              "      <th>count</th>\n",
              "      <td>205.000000</td>\n",
              "      <td>205.000000</td>\n",
              "      <td>205.000000</td>\n",
              "      <td>205.000000</td>\n",
              "      <td>205.000000</td>\n",
              "      <td>205.000000</td>\n",
              "      <td>205.000000</td>\n",
              "      <td>205.000000</td>\n",
              "      <td>205.000000</td>\n",
              "      <td>205.000000</td>\n",
              "      <td>205.000000</td>\n",
              "      <td>205.000000</td>\n",
              "    </tr>\n",
              "    <tr>\n",
              "      <th>mean</th>\n",
              "      <td>0.834146</td>\n",
              "      <td>98.756585</td>\n",
              "      <td>174.049268</td>\n",
              "      <td>65.907805</td>\n",
              "      <td>53.724878</td>\n",
              "      <td>2555.565854</td>\n",
              "      <td>126.907317</td>\n",
              "      <td>10.142537</td>\n",
              "      <td>104.253659</td>\n",
              "      <td>25.219512</td>\n",
              "      <td>30.751220</td>\n",
              "      <td>13207.126829</td>\n",
              "    </tr>\n",
              "    <tr>\n",
              "      <th>std</th>\n",
              "      <td>1.245307</td>\n",
              "      <td>6.021776</td>\n",
              "      <td>12.337289</td>\n",
              "      <td>2.145204</td>\n",
              "      <td>2.443522</td>\n",
              "      <td>520.680204</td>\n",
              "      <td>41.642693</td>\n",
              "      <td>3.972040</td>\n",
              "      <td>39.519219</td>\n",
              "      <td>6.542142</td>\n",
              "      <td>6.886443</td>\n",
              "      <td>7868.768212</td>\n",
              "    </tr>\n",
              "    <tr>\n",
              "      <th>min</th>\n",
              "      <td>-2.000000</td>\n",
              "      <td>86.600000</td>\n",
              "      <td>141.100000</td>\n",
              "      <td>60.300000</td>\n",
              "      <td>47.800000</td>\n",
              "      <td>1488.000000</td>\n",
              "      <td>61.000000</td>\n",
              "      <td>7.000000</td>\n",
              "      <td>48.000000</td>\n",
              "      <td>13.000000</td>\n",
              "      <td>16.000000</td>\n",
              "      <td>5118.000000</td>\n",
              "    </tr>\n",
              "    <tr>\n",
              "      <th>25%</th>\n",
              "      <td>0.000000</td>\n",
              "      <td>94.500000</td>\n",
              "      <td>166.300000</td>\n",
              "      <td>64.100000</td>\n",
              "      <td>52.000000</td>\n",
              "      <td>2145.000000</td>\n",
              "      <td>97.000000</td>\n",
              "      <td>8.600000</td>\n",
              "      <td>70.000000</td>\n",
              "      <td>19.000000</td>\n",
              "      <td>25.000000</td>\n",
              "      <td>7788.000000</td>\n",
              "    </tr>\n",
              "    <tr>\n",
              "      <th>50%</th>\n",
              "      <td>1.000000</td>\n",
              "      <td>97.000000</td>\n",
              "      <td>173.200000</td>\n",
              "      <td>65.500000</td>\n",
              "      <td>54.100000</td>\n",
              "      <td>2414.000000</td>\n",
              "      <td>120.000000</td>\n",
              "      <td>9.000000</td>\n",
              "      <td>95.000000</td>\n",
              "      <td>24.000000</td>\n",
              "      <td>30.000000</td>\n",
              "      <td>10595.000000</td>\n",
              "    </tr>\n",
              "    <tr>\n",
              "      <th>75%</th>\n",
              "      <td>2.000000</td>\n",
              "      <td>102.400000</td>\n",
              "      <td>183.100000</td>\n",
              "      <td>66.900000</td>\n",
              "      <td>55.500000</td>\n",
              "      <td>2935.000000</td>\n",
              "      <td>141.000000</td>\n",
              "      <td>9.400000</td>\n",
              "      <td>116.000000</td>\n",
              "      <td>30.000000</td>\n",
              "      <td>34.000000</td>\n",
              "      <td>16500.000000</td>\n",
              "    </tr>\n",
              "    <tr>\n",
              "      <th>max</th>\n",
              "      <td>3.000000</td>\n",
              "      <td>120.900000</td>\n",
              "      <td>208.100000</td>\n",
              "      <td>72.300000</td>\n",
              "      <td>59.800000</td>\n",
              "      <td>4066.000000</td>\n",
              "      <td>326.000000</td>\n",
              "      <td>23.000000</td>\n",
              "      <td>288.000000</td>\n",
              "      <td>49.000000</td>\n",
              "      <td>54.000000</td>\n",
              "      <td>45400.000000</td>\n",
              "    </tr>\n",
              "  </tbody>\n",
              "</table>\n",
              "</div>"
            ],
            "text/plain": [
              "        symboling  wheel-base  ...  highway-mpg         price\n",
              "count  205.000000  205.000000  ...   205.000000    205.000000\n",
              "mean     0.834146   98.756585  ...    30.751220  13207.126829\n",
              "std      1.245307    6.021776  ...     6.886443   7868.768212\n",
              "min     -2.000000   86.600000  ...    16.000000   5118.000000\n",
              "25%      0.000000   94.500000  ...    25.000000   7788.000000\n",
              "50%      1.000000   97.000000  ...    30.000000  10595.000000\n",
              "75%      2.000000  102.400000  ...    34.000000  16500.000000\n",
              "max      3.000000  120.900000  ...    54.000000  45400.000000\n",
              "\n",
              "[8 rows x 12 columns]"
            ]
          },
          "metadata": {
            "tags": []
          },
          "execution_count": 3
        }
      ]
    },
    {
      "cell_type": "code",
      "metadata": {
        "id": "HLlwt7Xt97nG",
        "colab_type": "code",
        "colab": {
          "base_uri": "https://localhost:8080/",
          "height": 447
        },
        "outputId": "db4c095e-0b17-4841-be46-4b61d6da9311"
      },
      "source": [
        "df.head(10)"
      ],
      "execution_count": 4,
      "outputs": [
        {
          "output_type": "execute_result",
          "data": {
            "text/html": [
              "<div>\n",
              "<style scoped>\n",
              "    .dataframe tbody tr th:only-of-type {\n",
              "        vertical-align: middle;\n",
              "    }\n",
              "\n",
              "    .dataframe tbody tr th {\n",
              "        vertical-align: top;\n",
              "    }\n",
              "\n",
              "    .dataframe thead th {\n",
              "        text-align: right;\n",
              "    }\n",
              "</style>\n",
              "<table border=\"1\" class=\"dataframe\">\n",
              "  <thead>\n",
              "    <tr style=\"text-align: right;\">\n",
              "      <th></th>\n",
              "      <th>symboling</th>\n",
              "      <th>normalized-losses</th>\n",
              "      <th>make</th>\n",
              "      <th>fuel-type</th>\n",
              "      <th>aspiration</th>\n",
              "      <th>num-of-doors</th>\n",
              "      <th>body-style</th>\n",
              "      <th>drive-wheels</th>\n",
              "      <th>engine-location</th>\n",
              "      <th>wheel-base</th>\n",
              "      <th>length</th>\n",
              "      <th>width</th>\n",
              "      <th>height</th>\n",
              "      <th>curb-weight</th>\n",
              "      <th>engine-type</th>\n",
              "      <th>num-of-cylinders</th>\n",
              "      <th>engine-size</th>\n",
              "      <th>fuel-system</th>\n",
              "      <th>bore</th>\n",
              "      <th>stroke</th>\n",
              "      <th>compression-ratio</th>\n",
              "      <th>horsepower</th>\n",
              "      <th>peak-rpm</th>\n",
              "      <th>city-mpg</th>\n",
              "      <th>highway-mpg</th>\n",
              "      <th>price</th>\n",
              "    </tr>\n",
              "  </thead>\n",
              "  <tbody>\n",
              "    <tr>\n",
              "      <th>0</th>\n",
              "      <td>3</td>\n",
              "      <td>NaN</td>\n",
              "      <td>alfa-romero</td>\n",
              "      <td>gas</td>\n",
              "      <td>std</td>\n",
              "      <td>two</td>\n",
              "      <td>convertible</td>\n",
              "      <td>rwd</td>\n",
              "      <td>front</td>\n",
              "      <td>88.6</td>\n",
              "      <td>168.8</td>\n",
              "      <td>64.1</td>\n",
              "      <td>48.8</td>\n",
              "      <td>2548</td>\n",
              "      <td>dohc</td>\n",
              "      <td>four</td>\n",
              "      <td>130</td>\n",
              "      <td>mpfi</td>\n",
              "      <td>3.47</td>\n",
              "      <td>2.68</td>\n",
              "      <td>9.0</td>\n",
              "      <td>111.0</td>\n",
              "      <td>5000</td>\n",
              "      <td>21</td>\n",
              "      <td>27</td>\n",
              "      <td>13495.0</td>\n",
              "    </tr>\n",
              "    <tr>\n",
              "      <th>1</th>\n",
              "      <td>3</td>\n",
              "      <td>NaN</td>\n",
              "      <td>alfa-romero</td>\n",
              "      <td>gas</td>\n",
              "      <td>std</td>\n",
              "      <td>two</td>\n",
              "      <td>convertible</td>\n",
              "      <td>rwd</td>\n",
              "      <td>front</td>\n",
              "      <td>88.6</td>\n",
              "      <td>168.8</td>\n",
              "      <td>64.1</td>\n",
              "      <td>48.8</td>\n",
              "      <td>2548</td>\n",
              "      <td>dohc</td>\n",
              "      <td>four</td>\n",
              "      <td>130</td>\n",
              "      <td>mpfi</td>\n",
              "      <td>3.47</td>\n",
              "      <td>2.68</td>\n",
              "      <td>9.0</td>\n",
              "      <td>111.0</td>\n",
              "      <td>5000</td>\n",
              "      <td>21</td>\n",
              "      <td>27</td>\n",
              "      <td>16500.0</td>\n",
              "    </tr>\n",
              "    <tr>\n",
              "      <th>2</th>\n",
              "      <td>1</td>\n",
              "      <td>NaN</td>\n",
              "      <td>alfa-romero</td>\n",
              "      <td>gas</td>\n",
              "      <td>std</td>\n",
              "      <td>two</td>\n",
              "      <td>hatchback</td>\n",
              "      <td>rwd</td>\n",
              "      <td>front</td>\n",
              "      <td>94.5</td>\n",
              "      <td>171.2</td>\n",
              "      <td>65.5</td>\n",
              "      <td>52.4</td>\n",
              "      <td>2823</td>\n",
              "      <td>ohcv</td>\n",
              "      <td>six</td>\n",
              "      <td>152</td>\n",
              "      <td>mpfi</td>\n",
              "      <td>2.68</td>\n",
              "      <td>3.47</td>\n",
              "      <td>9.0</td>\n",
              "      <td>154.0</td>\n",
              "      <td>5000</td>\n",
              "      <td>19</td>\n",
              "      <td>26</td>\n",
              "      <td>16500.0</td>\n",
              "    </tr>\n",
              "    <tr>\n",
              "      <th>3</th>\n",
              "      <td>2</td>\n",
              "      <td>164</td>\n",
              "      <td>audi</td>\n",
              "      <td>gas</td>\n",
              "      <td>std</td>\n",
              "      <td>four</td>\n",
              "      <td>sedan</td>\n",
              "      <td>fwd</td>\n",
              "      <td>front</td>\n",
              "      <td>99.8</td>\n",
              "      <td>176.6</td>\n",
              "      <td>66.2</td>\n",
              "      <td>54.3</td>\n",
              "      <td>2337</td>\n",
              "      <td>ohc</td>\n",
              "      <td>four</td>\n",
              "      <td>109</td>\n",
              "      <td>mpfi</td>\n",
              "      <td>3.19</td>\n",
              "      <td>3.40</td>\n",
              "      <td>10.0</td>\n",
              "      <td>102.0</td>\n",
              "      <td>5500</td>\n",
              "      <td>24</td>\n",
              "      <td>30</td>\n",
              "      <td>13950.0</td>\n",
              "    </tr>\n",
              "    <tr>\n",
              "      <th>4</th>\n",
              "      <td>2</td>\n",
              "      <td>164</td>\n",
              "      <td>audi</td>\n",
              "      <td>gas</td>\n",
              "      <td>std</td>\n",
              "      <td>four</td>\n",
              "      <td>sedan</td>\n",
              "      <td>4wd</td>\n",
              "      <td>front</td>\n",
              "      <td>99.4</td>\n",
              "      <td>176.6</td>\n",
              "      <td>66.4</td>\n",
              "      <td>54.3</td>\n",
              "      <td>2824</td>\n",
              "      <td>ohc</td>\n",
              "      <td>five</td>\n",
              "      <td>136</td>\n",
              "      <td>mpfi</td>\n",
              "      <td>3.19</td>\n",
              "      <td>3.40</td>\n",
              "      <td>8.0</td>\n",
              "      <td>115.0</td>\n",
              "      <td>5500</td>\n",
              "      <td>18</td>\n",
              "      <td>22</td>\n",
              "      <td>17450.0</td>\n",
              "    </tr>\n",
              "    <tr>\n",
              "      <th>5</th>\n",
              "      <td>2</td>\n",
              "      <td>NaN</td>\n",
              "      <td>audi</td>\n",
              "      <td>gas</td>\n",
              "      <td>std</td>\n",
              "      <td>two</td>\n",
              "      <td>sedan</td>\n",
              "      <td>fwd</td>\n",
              "      <td>front</td>\n",
              "      <td>99.8</td>\n",
              "      <td>177.3</td>\n",
              "      <td>66.3</td>\n",
              "      <td>53.1</td>\n",
              "      <td>2507</td>\n",
              "      <td>ohc</td>\n",
              "      <td>five</td>\n",
              "      <td>136</td>\n",
              "      <td>mpfi</td>\n",
              "      <td>3.19</td>\n",
              "      <td>3.40</td>\n",
              "      <td>8.5</td>\n",
              "      <td>110.0</td>\n",
              "      <td>5500</td>\n",
              "      <td>19</td>\n",
              "      <td>25</td>\n",
              "      <td>15250.0</td>\n",
              "    </tr>\n",
              "    <tr>\n",
              "      <th>6</th>\n",
              "      <td>1</td>\n",
              "      <td>158</td>\n",
              "      <td>audi</td>\n",
              "      <td>gas</td>\n",
              "      <td>std</td>\n",
              "      <td>four</td>\n",
              "      <td>sedan</td>\n",
              "      <td>fwd</td>\n",
              "      <td>front</td>\n",
              "      <td>105.8</td>\n",
              "      <td>192.7</td>\n",
              "      <td>71.4</td>\n",
              "      <td>55.7</td>\n",
              "      <td>2844</td>\n",
              "      <td>ohc</td>\n",
              "      <td>five</td>\n",
              "      <td>136</td>\n",
              "      <td>mpfi</td>\n",
              "      <td>3.19</td>\n",
              "      <td>3.40</td>\n",
              "      <td>8.5</td>\n",
              "      <td>110.0</td>\n",
              "      <td>5500</td>\n",
              "      <td>19</td>\n",
              "      <td>25</td>\n",
              "      <td>17710.0</td>\n",
              "    </tr>\n",
              "    <tr>\n",
              "      <th>7</th>\n",
              "      <td>1</td>\n",
              "      <td>NaN</td>\n",
              "      <td>audi</td>\n",
              "      <td>gas</td>\n",
              "      <td>std</td>\n",
              "      <td>four</td>\n",
              "      <td>wagon</td>\n",
              "      <td>fwd</td>\n",
              "      <td>front</td>\n",
              "      <td>105.8</td>\n",
              "      <td>192.7</td>\n",
              "      <td>71.4</td>\n",
              "      <td>55.7</td>\n",
              "      <td>2954</td>\n",
              "      <td>ohc</td>\n",
              "      <td>five</td>\n",
              "      <td>136</td>\n",
              "      <td>mpfi</td>\n",
              "      <td>3.19</td>\n",
              "      <td>3.40</td>\n",
              "      <td>8.5</td>\n",
              "      <td>110.0</td>\n",
              "      <td>5500</td>\n",
              "      <td>19</td>\n",
              "      <td>25</td>\n",
              "      <td>18920.0</td>\n",
              "    </tr>\n",
              "    <tr>\n",
              "      <th>8</th>\n",
              "      <td>1</td>\n",
              "      <td>158</td>\n",
              "      <td>audi</td>\n",
              "      <td>gas</td>\n",
              "      <td>turbo</td>\n",
              "      <td>four</td>\n",
              "      <td>sedan</td>\n",
              "      <td>fwd</td>\n",
              "      <td>front</td>\n",
              "      <td>105.8</td>\n",
              "      <td>192.7</td>\n",
              "      <td>71.4</td>\n",
              "      <td>55.9</td>\n",
              "      <td>3086</td>\n",
              "      <td>ohc</td>\n",
              "      <td>five</td>\n",
              "      <td>131</td>\n",
              "      <td>mpfi</td>\n",
              "      <td>3.13</td>\n",
              "      <td>3.40</td>\n",
              "      <td>8.3</td>\n",
              "      <td>140.0</td>\n",
              "      <td>5500</td>\n",
              "      <td>17</td>\n",
              "      <td>20</td>\n",
              "      <td>23875.0</td>\n",
              "    </tr>\n",
              "    <tr>\n",
              "      <th>9</th>\n",
              "      <td>0</td>\n",
              "      <td>NaN</td>\n",
              "      <td>audi</td>\n",
              "      <td>gas</td>\n",
              "      <td>turbo</td>\n",
              "      <td>two</td>\n",
              "      <td>hatchback</td>\n",
              "      <td>4wd</td>\n",
              "      <td>front</td>\n",
              "      <td>99.5</td>\n",
              "      <td>178.2</td>\n",
              "      <td>67.9</td>\n",
              "      <td>52.0</td>\n",
              "      <td>3053</td>\n",
              "      <td>ohc</td>\n",
              "      <td>five</td>\n",
              "      <td>131</td>\n",
              "      <td>mpfi</td>\n",
              "      <td>3.13</td>\n",
              "      <td>3.40</td>\n",
              "      <td>7.0</td>\n",
              "      <td>160.0</td>\n",
              "      <td>5500</td>\n",
              "      <td>16</td>\n",
              "      <td>22</td>\n",
              "      <td>13207.0</td>\n",
              "    </tr>\n",
              "  </tbody>\n",
              "</table>\n",
              "</div>"
            ],
            "text/plain": [
              "   symboling normalized-losses         make  ... city-mpg highway-mpg    price\n",
              "0          3               NaN  alfa-romero  ...       21          27  13495.0\n",
              "1          3               NaN  alfa-romero  ...       21          27  16500.0\n",
              "2          1               NaN  alfa-romero  ...       19          26  16500.0\n",
              "3          2               164         audi  ...       24          30  13950.0\n",
              "4          2               164         audi  ...       18          22  17450.0\n",
              "5          2               NaN         audi  ...       19          25  15250.0\n",
              "6          1               158         audi  ...       19          25  17710.0\n",
              "7          1               NaN         audi  ...       19          25  18920.0\n",
              "8          1               158         audi  ...       17          20  23875.0\n",
              "9          0               NaN         audi  ...       16          22  13207.0\n",
              "\n",
              "[10 rows x 26 columns]"
            ]
          },
          "metadata": {
            "tags": []
          },
          "execution_count": 4
        }
      ]
    },
    {
      "cell_type": "code",
      "metadata": {
        "id": "wLODDAE43bZ6",
        "colab_type": "code",
        "colab": {
          "base_uri": "https://localhost:8080/",
          "height": 34
        },
        "outputId": "c4ecd456-10a5-4f4a-c7db-ba55ae87ca3f"
      },
      "source": [
        "df.shape"
      ],
      "execution_count": 5,
      "outputs": [
        {
          "output_type": "execute_result",
          "data": {
            "text/plain": [
              "(205, 26)"
            ]
          },
          "metadata": {
            "tags": []
          },
          "execution_count": 5
        }
      ]
    },
    {
      "cell_type": "code",
      "metadata": {
        "id": "bIav-pCn3ffp",
        "colab_type": "code",
        "colab": {
          "base_uri": "https://localhost:8080/",
          "height": 598
        },
        "outputId": "d82ac938-75c8-406d-868e-9836de7b8657"
      },
      "source": [
        "df.info()"
      ],
      "execution_count": 6,
      "outputs": [
        {
          "output_type": "stream",
          "text": [
            "<class 'pandas.core.frame.DataFrame'>\n",
            "RangeIndex: 205 entries, 0 to 204\n",
            "Data columns (total 26 columns):\n",
            " #   Column             Non-Null Count  Dtype  \n",
            "---  ------             --------------  -----  \n",
            " 0   symboling          205 non-null    int64  \n",
            " 1   normalized-losses  164 non-null    object \n",
            " 2   make               205 non-null    object \n",
            " 3   fuel-type          205 non-null    object \n",
            " 4   aspiration         205 non-null    object \n",
            " 5   num-of-doors       203 non-null    object \n",
            " 6   body-style         205 non-null    object \n",
            " 7   drive-wheels       205 non-null    object \n",
            " 8   engine-location    205 non-null    object \n",
            " 9   wheel-base         205 non-null    float64\n",
            " 10  length             205 non-null    float64\n",
            " 11  width              205 non-null    float64\n",
            " 12  height             205 non-null    float64\n",
            " 13  curb-weight        205 non-null    int64  \n",
            " 14  engine-type        205 non-null    object \n",
            " 15  num-of-cylinders   205 non-null    object \n",
            " 16  engine-size        205 non-null    int64  \n",
            " 17  fuel-system        205 non-null    object \n",
            " 18  bore               201 non-null    object \n",
            " 19  stroke             201 non-null    object \n",
            " 20  compression-ratio  205 non-null    float64\n",
            " 21  horsepower         205 non-null    float64\n",
            " 22  peak-rpm           203 non-null    object \n",
            " 23  city-mpg           205 non-null    int64  \n",
            " 24  highway-mpg        205 non-null    int64  \n",
            " 25  price              205 non-null    float64\n",
            "dtypes: float64(7), int64(5), object(14)\n",
            "memory usage: 41.8+ KB\n"
          ],
          "name": "stdout"
        }
      ]
    },
    {
      "cell_type": "code",
      "metadata": {
        "id": "ch7MjYaXKTNM",
        "colab_type": "code",
        "colab": {
          "base_uri": "https://localhost:8080/",
          "height": 334
        },
        "outputId": "554177cd-d742-42d9-a470-0d8eb64c394e"
      },
      "source": [
        "import seaborn as sns\n",
        "ax=sns.regplot(x='highway-mpg',y='price',data=df)"
      ],
      "execution_count": 7,
      "outputs": [
        {
          "output_type": "stream",
          "text": [
            "/usr/local/lib/python3.6/dist-packages/statsmodels/tools/_testing.py:19: FutureWarning: pandas.util.testing is deprecated. Use the functions in the public API at pandas.testing instead.\n",
            "  import pandas.util.testing as tm\n"
          ],
          "name": "stderr"
        },
        {
          "output_type": "display_data",
          "data": {
            "image/png": "[encoded data removed]",
            "text/plain": [
              "<Figure size 432x288 with 1 Axes>"
            ]
          },
          "metadata": {
            "tags": [],
            "needs_background": "light"
          }
        }
      ]
    },
    {
      "cell_type": "code",
      "metadata": {
        "id": "mPy8srQLhR1w",
        "colab_type": "code",
        "colab": {
          "base_uri": "https://localhost:8080/",
          "height": 282
        },
        "outputId": "404aadc9-6157-4ace-cd95-9ed7fbe21df3"
      },
      "source": [
        "ax=sns.regplot(x='horsepower',y='price',data=df)"
      ],
      "execution_count": 8,
      "outputs": [
        {
          "output_type": "display_data",
          "data": {
            "image/png": "[encoded data removed]",
            "text/plain": [
              "<Figure size 432x288 with 1 Axes>"
            ]
          },
          "metadata": {
            "tags": [],
            "needs_background": "light"
          }
        }
      ]
    },
    {
      "cell_type": "code",
      "metadata": {
        "id": "N3UNiYDNhU-w",
        "colab_type": "code",
        "colab": {
          "base_uri": "https://localhost:8080/",
          "height": 279
        },
        "outputId": "b0747bc6-df5c-48ad-e336-3b0d5109987e"
      },
      "source": [
        "ax=sns.regplot(x='curb-weight',y='price',data=df)"
      ],
      "execution_count": 9,
      "outputs": [
        {
          "output_type": "display_data",
          "data": {
            "image/png": "[encoded data removed]",
            "text/plain": [
              "<Figure size 432x288 with 1 Axes>"
            ]
          },
          "metadata": {
            "tags": [],
            "needs_background": "light"
          }
        }
      ]
    },
    {
      "cell_type": "code",
      "metadata": {
        "id": "eXa6dDkyhlsK",
        "colab_type": "code",
        "colab": {
          "base_uri": "https://localhost:8080/",
          "height": 279
        },
        "outputId": "a05ef040-10d3-4730-b668-e2f58407d18e"
      },
      "source": [
        "ax=sns.regplot(x='engine-size',y='price',data=df)"
      ],
      "execution_count": 10,
      "outputs": [
        {
          "output_type": "display_data",
          "data": {
            "image/png": "[encoded data removed]",
            "text/plain": [
              "<Figure size 432x288 with 1 Axes>"
            ]
          },
          "metadata": {
            "tags": [],
            "needs_background": "light"
          }
        }
      ]
    },
    {
      "cell_type": "code",
      "metadata": {
        "id": "ni4u3B5DUMv_",
        "colab_type": "code",
        "colab": {}
      },
      "source": [
        "from sklearn.model_selection import train_test_split\n",
        "x=df[['highway-mpg','horsepower','curb-weight', 'engine-size']]\n",
        "y=df['price']\n",
        "#split the data into training and testing sets.\n",
        "x_train, x_test, y_train, y_test = train_test_split(x, y, test_size=0.20, random_state=1)"
      ],
      "execution_count": 11,
      "outputs": []
    },
    {
      "cell_type": "code",
      "metadata": {
        "id": "UL1H5GvRL5UB",
        "colab_type": "code",
        "colab": {
          "base_uri": "https://localhost:8080/",
          "height": 1000
        },
        "outputId": "38a1fa39-2a5c-483e-866b-7bb8b08f43c5"
      },
      "source": [
        "model=keras.Sequential([keras.layers.Dense(1,input_shape=[4,])])\n",
        "model.compile(optimizer=Adam(0.1),loss='mean_squared_error')\n",
        "history=model.fit(x_train,y_train,validation_split=0.25,epochs=50)\n"
      ],
      "execution_count": 12,
      "outputs": [
        {
          "output_type": "stream",
          "text": [
            "Epoch 1/50\n",
            "4/4 [==============================] - 0s 40ms/step - loss: 205703888.0000 - val_loss: 185099536.0000\n",
            "Epoch 2/50\n",
            "4/4 [==============================] - 0s 6ms/step - loss: 177791072.0000 - val_loss: 158420512.0000\n",
            "Epoch 3/50\n",
            "4/4 [==============================] - 0s 5ms/step - loss: 149618928.0000 - val_loss: 135195200.0000\n",
            "Epoch 4/50\n",
            "4/4 [==============================] - 0s 5ms/step - loss: 127269600.0000 - val_loss: 114649200.0000\n",
            "Epoch 5/50\n",
            "4/4 [==============================] - 0s 5ms/step - loss: 107636000.0000 - val_loss: 96944192.0000\n",
            "Epoch 6/50\n",
            "4/4 [==============================] - 0s 6ms/step - loss: 91297928.0000 - val_loss: 81960416.0000\n",
            "Epoch 7/50\n",
            "4/4 [==============================] - 0s 6ms/step - loss: 76065912.0000 - val_loss: 69919176.0000\n",
            "Epoch 8/50\n",
            "4/4 [==============================] - 0s 6ms/step - loss: 65964088.0000 - val_loss: 60005996.0000\n",
            "Epoch 9/50\n",
            "4/4 [==============================] - 0s 6ms/step - loss: 55622408.0000 - val_loss: 52585236.0000\n",
            "Epoch 10/50\n",
            "4/4 [==============================] - 0s 6ms/step - loss: 49680060.0000 - val_loss: 46769420.0000\n",
            "Epoch 11/50\n",
            "4/4 [==============================] - 0s 6ms/step - loss: 43643684.0000 - val_loss: 42687684.0000\n",
            "Epoch 12/50\n",
            "4/4 [==============================] - 0s 5ms/step - loss: 40041436.0000 - val_loss: 39770756.0000\n",
            "Epoch 13/50\n",
            "4/4 [==============================] - 0s 5ms/step - loss: 37646684.0000 - val_loss: 37763772.0000\n",
            "Epoch 14/50\n",
            "4/4 [==============================] - 0s 6ms/step - loss: 35913556.0000 - val_loss: 36468064.0000\n",
            "Epoch 15/50\n",
            "4/4 [==============================] - 0s 6ms/step - loss: 34758888.0000 - val_loss: 35686424.0000\n",
            "Epoch 16/50\n",
            "4/4 [==============================] - 0s 5ms/step - loss: 34016880.0000 - val_loss: 35245628.0000\n",
            "Epoch 17/50\n",
            "4/4 [==============================] - 0s 6ms/step - loss: 33636908.0000 - val_loss: 35011032.0000\n",
            "Epoch 18/50\n",
            "4/4 [==============================] - 0s 6ms/step - loss: 33446958.0000 - val_loss: 34896648.0000\n",
            "Epoch 19/50\n",
            "4/4 [==============================] - 0s 5ms/step - loss: 33270430.0000 - val_loss: 34847836.0000\n",
            "Epoch 20/50\n",
            "4/4 [==============================] - 0s 5ms/step - loss: 33310864.0000 - val_loss: 34823804.0000\n",
            "Epoch 21/50\n",
            "4/4 [==============================] - 0s 6ms/step - loss: 33243550.0000 - val_loss: 34811312.0000\n",
            "Epoch 22/50\n",
            "4/4 [==============================] - 0s 6ms/step - loss: 33223436.0000 - val_loss: 34799284.0000\n",
            "Epoch 23/50\n",
            "4/4 [==============================] - 0s 6ms/step - loss: 33205344.0000 - val_loss: 34783772.0000\n",
            "Epoch 24/50\n",
            "4/4 [==============================] - 0s 6ms/step - loss: 33169034.0000 - val_loss: 34761172.0000\n",
            "Epoch 25/50\n",
            "4/4 [==============================] - 0s 6ms/step - loss: 33146352.0000 - val_loss: 34732160.0000\n",
            "Epoch 26/50\n",
            "4/4 [==============================] - 0s 5ms/step - loss: 33099514.0000 - val_loss: 34708208.0000\n",
            "Epoch 27/50\n",
            "4/4 [==============================] - 0s 8ms/step - loss: 33073342.0000 - val_loss: 34682900.0000\n",
            "Epoch 28/50\n",
            "4/4 [==============================] - 0s 7ms/step - loss: 33041692.0000 - val_loss: 34657520.0000\n",
            "Epoch 29/50\n",
            "4/4 [==============================] - 0s 6ms/step - loss: 33007700.0000 - val_loss: 34632852.0000\n",
            "Epoch 30/50\n",
            "4/4 [==============================] - 0s 6ms/step - loss: 32967084.0000 - val_loss: 34609856.0000\n",
            "Epoch 31/50\n",
            "4/4 [==============================] - 0s 6ms/step - loss: 32951016.0000 - val_loss: 34586816.0000\n",
            "Epoch 32/50\n",
            "4/4 [==============================] - 0s 6ms/step - loss: 32912250.0000 - val_loss: 34562728.0000\n",
            "Epoch 33/50\n",
            "4/4 [==============================] - 0s 5ms/step - loss: 32883086.0000 - val_loss: 34539568.0000\n",
            "Epoch 34/50\n",
            "4/4 [==============================] - 0s 6ms/step - loss: 32862824.0000 - val_loss: 34515656.0000\n",
            "Epoch 35/50\n",
            "4/4 [==============================] - 0s 7ms/step - loss: 32821162.0000 - val_loss: 34490648.0000\n",
            "Epoch 36/50\n",
            "4/4 [==============================] - 0s 7ms/step - loss: 32779246.0000 - val_loss: 34466052.0000\n",
            "Epoch 37/50\n",
            "4/4 [==============================] - 0s 6ms/step - loss: 32775642.0000 - val_loss: 34439780.0000\n",
            "Epoch 38/50\n",
            "4/4 [==============================] - 0s 6ms/step - loss: 32707130.0000 - val_loss: 34414912.0000\n",
            "Epoch 39/50\n",
            "4/4 [==============================] - 0s 6ms/step - loss: 32685956.0000 - val_loss: 34390060.0000\n",
            "Epoch 40/50\n",
            "4/4 [==============================] - 0s 5ms/step - loss: 32660254.0000 - val_loss: 34363840.0000\n",
            "Epoch 41/50\n",
            "4/4 [==============================] - 0s 6ms/step - loss: 32622144.0000 - val_loss: 34337744.0000\n",
            "Epoch 42/50\n",
            "4/4 [==============================] - 0s 5ms/step - loss: 32593934.0000 - val_loss: 34311788.0000\n",
            "Epoch 43/50\n",
            "4/4 [==============================] - 0s 6ms/step - loss: 32534050.0000 - val_loss: 34284300.0000\n",
            "Epoch 44/50\n",
            "4/4 [==============================] - 0s 6ms/step - loss: 32527250.0000 - val_loss: 34257912.0000\n",
            "Epoch 45/50\n",
            "4/4 [==============================] - 0s 6ms/step - loss: 32476414.0000 - val_loss: 34233508.0000\n",
            "Epoch 46/50\n",
            "4/4 [==============================] - 0s 5ms/step - loss: 32426348.0000 - val_loss: 34206564.0000\n",
            "Epoch 47/50\n",
            "4/4 [==============================] - 0s 6ms/step - loss: 32399928.0000 - val_loss: 34178984.0000\n",
            "Epoch 48/50\n",
            "4/4 [==============================] - 0s 5ms/step - loss: 32356540.0000 - val_loss: 34151104.0000\n",
            "Epoch 49/50\n",
            "4/4 [==============================] - 0s 5ms/step - loss: 32324800.0000 - val_loss: 34124272.0000\n",
            "Epoch 50/50\n",
            "4/4 [==============================] - 0s 5ms/step - loss: 32291248.0000 - val_loss: 34095468.0000\n"
          ],
          "name": "stdout"
        }
      ]
    },
    {
      "cell_type": "code",
      "metadata": {
        "id": "QaQBaDJBswwF",
        "colab_type": "code",
        "colab": {
          "base_uri": "https://localhost:8080/",
          "height": 295
        },
        "outputId": "ffc727a9-ae31-423c-d779-6797e83c5b04"
      },
      "source": [
        "import matplotlib.pyplot as plt\n",
        "plt.plot(history.history['loss'])\n",
        "plt.plot(history.history['val_loss'])\n",
        "plt.title('model loss')\n",
        "plt.ylabel('loss')\n",
        "plt.xlabel('epoch')\n",
        "plt.legend(['train', 'validation'], loc='upper left')\n",
        "plt.show()"
      ],
      "execution_count": 13,
      "outputs": [
        {
          "output_type": "display_data",
          "data": {
            "image/png": "[encoded data removed]",
            "text/plain": [
              "<Figure size 432x288 with 1 Axes>"
            ]
          },
          "metadata": {
            "tags": [],
            "needs_background": "light"
          }
        }
      ]
    },
    {
      "cell_type": "code",
      "metadata": {
        "id": "ZrrdyK6-S3zv",
        "colab_type": "code",
        "colab": {
          "base_uri": "https://localhost:8080/",
          "height": 34
        },
        "outputId": "f4050405-c6e5-4baf-cca7-e84aac9a56e0"
      },
      "source": [
        "print(model.predict([[27,111,2548,130]]))"
      ],
      "execution_count": 14,
      "outputs": [
        {
          "output_type": "stream",
          "text": [
            "[[14026.994]]\n"
          ],
          "name": "stdout"
        }
      ]
    },
    {
      "cell_type": "code",
      "metadata": {
        "id": "v4rUQjb0M3fR",
        "colab_type": "code",
        "colab": {
          "base_uri": "https://localhost:8080/",
          "height": 105
        },
        "outputId": "e9f750c7-0cd8-4312-ea07-37b65dee1670"
      },
      "source": [
        "#coefficients of the model\n",
        "print('Coefficients: \\n',model.get_weights())"
      ],
      "execution_count": 15,
      "outputs": [
        {
          "output_type": "stream",
          "text": [
            "Coefficients: \n",
            " [array([[-0.08820112],\n",
            "       [ 6.0395765 ],\n",
            "       [ 4.861606  ],\n",
            "       [ 7.456666  ]], dtype=float32), array([2.243769], dtype=float32)]\n"
          ],
          "name": "stdout"
        }
      ]
    },
    {
      "cell_type": "code",
      "metadata": {
        "id": "nFwPBdflGGgV",
        "colab_type": "code",
        "colab": {
          "base_uri": "https://localhost:8080/",
          "height": 70
        },
        "outputId": "0a13f360-311e-4594-b1a4-efd8568ea16f"
      },
      "source": [
        "from sklearn.metrics import mean_absolute_error,mean_squared_error,r2_score\n",
        "y_prediction=model.predict(x_test)\n",
        "print(r2_score(y_prediction,y_test))\n",
        "print(mean_absolute_error(y_prediction,y_test))\n",
        "print(mean_squared_error(y_prediction,y_test))"
      ],
      "execution_count": 19,
      "outputs": [
        {
          "output_type": "stream",
          "text": [
            "-2.106535481197637\n",
            "4008.5867116044205\n",
            "26944423.506096356\n"
          ],
          "name": "stdout"
        }
      ]
    },
    {
      "cell_type": "code",
      "metadata": {
        "id": "dG56WBxZVIGb",
        "colab_type": "code",
        "colab": {
          "base_uri": "https://localhost:8080/",
          "height": 193
        },
        "outputId": "afd8e455-907e-4d5e-9f61-8276cc5eff32"
      },
      "source": [
        "model.summary()"
      ],
      "execution_count": 20,
      "outputs": [
        {
          "output_type": "stream",
          "text": [
            "Model: \"sequential\"\n",
            "_________________________________________________________________\n",
            "Layer (type)                 Output Shape              Param #   \n",
            "=================================================================\n",
            "dense (Dense)                (None, 1)                 5         \n",
            "=================================================================\n",
            "Total params: 5\n",
            "Trainable params: 5\n",
            "Non-trainable params: 0\n",
            "_________________________________________________________________\n"
          ],
          "name": "stdout"
        }
      ]
    }
  ]
}