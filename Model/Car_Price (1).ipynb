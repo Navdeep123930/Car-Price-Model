{
  "nbformat": 4,
  "nbformat_minor": 0,
  "metadata": {
    "colab": {
      "name": "Car Price.ipynb",
      "provenance": []
    },
    "kernelspec": {
      "name": "python3",
      "display_name": "Python 3"
    }
  },
  "cells": [
    {
      "cell_type": "code",
      "metadata": {
        "id": "cIkfLiuOH0YK",
        "colab_type": "code",
        "colab": {}
      },
      "source": [
        "import tensorflow as tf \n",
        "from tensorflow import keras\n",
        "from tensorflow.keras.optimizers import RMSprop,Adam\n",
        "import pandas as pd\n",
        "import numpy as np"
      ],
      "execution_count": 1,
      "outputs": []
    },
    {
      "cell_type": "code",
      "metadata": {
        "id": "yrx0kB-zI628",
        "colab_type": "code",
        "colab": {}
      },
      "source": [
        "headers = [\"symboling\",\"normalized-losses\",\"make\",\"fuel-type\",\"aspiration\", \"num-of-doors\",\"body-style\",\n",
        "         \"drive-wheels\",\"engine-location\",\"wheel-base\", \"length\",\"width\",\"height\",\"curb-weight\",\"engine-type\",\n",
        "         \"num-of-cylinders\", \"engine-size\",\"fuel-system\",\"bore\",\"stroke\",\"compression-ratio\",\"horsepower\",\n",
        "         \"peak-rpm\",\"city-mpg\",\"highway-mpg\",\"price\"]\n",
        "file_path = \"https://s3-api.us-geo.objectstorage.softlayer.net/cf-courses-data/CognitiveClass/DA0101EN/auto.csv\"\n",
        "df = pd.read_csv(file_path, header=None)\n",
        "df.columns = headers\n",
        "df.replace(\"?\", np.nan, inplace = True)\n",
        "df[\"price\"] = pd.to_numeric(df[\"price\"])\n",
        "df[\"horsepower\"] = pd.to_numeric(df[\"horsepower\"])\n",
        "avg_price = df['price'].astype('float').mean(axis=0)\n",
        "df['price'].replace(np.nan, round(avg_price), inplace=True)\n",
        "avg_horsepower = df['horsepower'].astype('float').mean(axis=0)\n",
        "df['horsepower'].replace(np.nan, round(avg_horsepower), inplace=True)"
      ],
      "execution_count": 2,
      "outputs": []
    },
    {
      "cell_type": "code",
      "metadata": {
        "id": "4ResHTwz2qLq",
        "colab_type": "code",
        "colab": {
          "base_uri": "https://localhost:8080/",
          "height": 284
        },
        "outputId": "474fa2c2-03c3-4a5b-9d52-133ffbc295ec"
      },
      "source": [
        "df.describe()"
      ],
      "execution_count": 3,
      "outputs": [
        {
          "output_type": "execute_result",
          "data": {
            "text/html": [
              "<div>\n",
              "<style scoped>\n",
              "    .dataframe tbody tr th:only-of-type {\n",
              "        vertical-align: middle;\n",
              "    }\n",
              "\n",
              "    .dataframe tbody tr th {\n",
              "        vertical-align: top;\n",
              "    }\n",
              "\n",
              "    .dataframe thead th {\n",
              "        text-align: right;\n",
              "    }\n",
              "</style>\n",
              "<table border=\"1\" class=\"dataframe\">\n",
              "  <thead>\n",
              "    <tr style=\"text-align: right;\">\n",
              "      <th></th>\n",
              "      <th>symboling</th>\n",
              "      <th>wheel-base</th>\n",
              "      <th>length</th>\n",
              "      <th>width</th>\n",
              "      <th>height</th>\n",
              "      <th>curb-weight</th>\n",
              "      <th>engine-size</th>\n",
              "      <th>compression-ratio</th>\n",
              "      <th>horsepower</th>\n",
              "      <th>city-mpg</th>\n",
              "      <th>highway-mpg</th>\n",
              "      <th>price</th>\n",
              "    </tr>\n",
              "  </thead>\n",
              "  <tbody>\n",
              "    <tr>\n",
              "      <th>count</th>\n",
              "      <td>205.000000</td>\n",
              "      <td>205.000000</td>\n",
              "      <td>205.000000</td>\n",
              "      <td>205.000000</td>\n",
              "      <td>205.000000</td>\n",
              "      <td>205.000000</td>\n",
              "      <td>205.000000</td>\n",
              "      <td>205.000000</td>\n",
              "      <td>205.000000</td>\n",
              "      <td>205.000000</td>\n",
              "      <td>205.000000</td>\n",
              "      <td>205.000000</td>\n",
              "    </tr>\n",
              "    <tr>\n",
              "      <th>mean</th>\n",
              "      <td>0.834146</td>\n",
              "      <td>98.756585</td>\n",
              "      <td>174.049268</td>\n",
              "      <td>65.907805</td>\n",
              "      <td>53.724878</td>\n",
              "      <td>2555.565854</td>\n",
              "      <td>126.907317</td>\n",
              "      <td>10.142537</td>\n",
              "      <td>104.253659</td>\n",
              "      <td>25.219512</td>\n",
              "      <td>30.751220</td>\n",
              "      <td>13207.126829</td>\n",
              "    </tr>\n",
              "    <tr>\n",
              "      <th>std</th>\n",
              "      <td>1.245307</td>\n",
              "      <td>6.021776</td>\n",
              "      <td>12.337289</td>\n",
              "      <td>2.145204</td>\n",
              "      <td>2.443522</td>\n",
              "      <td>520.680204</td>\n",
              "      <td>41.642693</td>\n",
              "      <td>3.972040</td>\n",
              "      <td>39.519219</td>\n",
              "      <td>6.542142</td>\n",
              "      <td>6.886443</td>\n",
              "      <td>7868.768212</td>\n",
              "    </tr>\n",
              "    <tr>\n",
              "      <th>min</th>\n",
              "      <td>-2.000000</td>\n",
              "      <td>86.600000</td>\n",
              "      <td>141.100000</td>\n",
              "      <td>60.300000</td>\n",
              "      <td>47.800000</td>\n",
              "      <td>1488.000000</td>\n",
              "      <td>61.000000</td>\n",
              "      <td>7.000000</td>\n",
              "      <td>48.000000</td>\n",
              "      <td>13.000000</td>\n",
              "      <td>16.000000</td>\n",
              "      <td>5118.000000</td>\n",
              "    </tr>\n",
              "    <tr>\n",
              "      <th>25%</th>\n",
              "      <td>0.000000</td>\n",
              "      <td>94.500000</td>\n",
              "      <td>166.300000</td>\n",
              "      <td>64.100000</td>\n",
              "      <td>52.000000</td>\n",
              "      <td>2145.000000</td>\n",
              "      <td>97.000000</td>\n",
              "      <td>8.600000</td>\n",
              "      <td>70.000000</td>\n",
              "      <td>19.000000</td>\n",
              "      <td>25.000000</td>\n",
              "      <td>7788.000000</td>\n",
              "    </tr>\n",
              "    <tr>\n",
              "      <th>50%</th>\n",
              "      <td>1.000000</td>\n",
              "      <td>97.000000</td>\n",
              "      <td>173.200000</td>\n",
              "      <td>65.500000</td>\n",
              "      <td>54.100000</td>\n",
              "      <td>2414.000000</td>\n",
              "      <td>120.000000</td>\n",
              "      <td>9.000000</td>\n",
              "      <td>95.000000</td>\n",
              "      <td>24.000000</td>\n",
              "      <td>30.000000</td>\n",
              "      <td>10595.000000</td>\n",
              "    </tr>\n",
              "    <tr>\n",
              "      <th>75%</th>\n",
              "      <td>2.000000</td>\n",
              "      <td>102.400000</td>\n",
              "      <td>183.100000</td>\n",
              "      <td>66.900000</td>\n",
              "      <td>55.500000</td>\n",
              "      <td>2935.000000</td>\n",
              "      <td>141.000000</td>\n",
              "      <td>9.400000</td>\n",
              "      <td>116.000000</td>\n",
              "      <td>30.000000</td>\n",
              "      <td>34.000000</td>\n",
              "      <td>16500.000000</td>\n",
              "    </tr>\n",
              "    <tr>\n",
              "      <th>max</th>\n",
              "      <td>3.000000</td>\n",
              "      <td>120.900000</td>\n",
              "      <td>208.100000</td>\n",
              "      <td>72.300000</td>\n",
              "      <td>59.800000</td>\n",
              "      <td>4066.000000</td>\n",
              "      <td>326.000000</td>\n",
              "      <td>23.000000</td>\n",
              "      <td>288.000000</td>\n",
              "      <td>49.000000</td>\n",
              "      <td>54.000000</td>\n",
              "      <td>45400.000000</td>\n",
              "    </tr>\n",
              "  </tbody>\n",
              "</table>\n",
              "</div>"
            ],
            "text/plain": [
              "        symboling  wheel-base  ...  highway-mpg         price\n",
              "count  205.000000  205.000000  ...   205.000000    205.000000\n",
              "mean     0.834146   98.756585  ...    30.751220  13207.126829\n",
              "std      1.245307    6.021776  ...     6.886443   7868.768212\n",
              "min     -2.000000   86.600000  ...    16.000000   5118.000000\n",
              "25%      0.000000   94.500000  ...    25.000000   7788.000000\n",
              "50%      1.000000   97.000000  ...    30.000000  10595.000000\n",
              "75%      2.000000  102.400000  ...    34.000000  16500.000000\n",
              "max      3.000000  120.900000  ...    54.000000  45400.000000\n",
              "\n",
              "[8 rows x 12 columns]"
            ]
          },
          "metadata": {
            "tags": []
          },
          "execution_count": 3
        }
      ]
    },
    {
      "cell_type": "code",
      "metadata": {
        "id": "HLlwt7Xt97nG",
        "colab_type": "code",
        "colab": {
          "base_uri": "https://localhost:8080/",
          "height": 447
        },
        "outputId": "c32dcb0d-8c30-47ec-b640-d956211fa3cf"
      },
      "source": [
        "df.head(10)"
      ],
      "execution_count": 4,
      "outputs": [
        {
          "output_type": "execute_result",
          "data": {
            "text/html": [
              "<div>\n",
              "<style scoped>\n",
              "    .dataframe tbody tr th:only-of-type {\n",
              "        vertical-align: middle;\n",
              "    }\n",
              "\n",
              "    .dataframe tbody tr th {\n",
              "        vertical-align: top;\n",
              "    }\n",
              "\n",
              "    .dataframe thead th {\n",
              "        text-align: right;\n",
              "    }\n",
              "</style>\n",
              "<table border=\"1\" class=\"dataframe\">\n",
              "  <thead>\n",
              "    <tr style=\"text-align: right;\">\n",
              "      <th></th>\n",
              "      <th>symboling</th>\n",
              "      <th>normalized-losses</th>\n",
              "      <th>make</th>\n",
              "      <th>fuel-type</th>\n",
              "      <th>aspiration</th>\n",
              "      <th>num-of-doors</th>\n",
              "      <th>body-style</th>\n",
              "      <th>drive-wheels</th>\n",
              "      <th>engine-location</th>\n",
              "      <th>wheel-base</th>\n",
              "      <th>length</th>\n",
              "      <th>width</th>\n",
              "      <th>height</th>\n",
              "      <th>curb-weight</th>\n",
              "      <th>engine-type</th>\n",
              "      <th>num-of-cylinders</th>\n",
              "      <th>engine-size</th>\n",
              "      <th>fuel-system</th>\n",
              "      <th>bore</th>\n",
              "      <th>stroke</th>\n",
              "      <th>compression-ratio</th>\n",
              "      <th>horsepower</th>\n",
              "      <th>peak-rpm</th>\n",
              "      <th>city-mpg</th>\n",
              "      <th>highway-mpg</th>\n",
              "      <th>price</th>\n",
              "    </tr>\n",
              "  </thead>\n",
              "  <tbody>\n",
              "    <tr>\n",
              "      <th>0</th>\n",
              "      <td>3</td>\n",
              "      <td>NaN</td>\n",
              "      <td>alfa-romero</td>\n",
              "      <td>gas</td>\n",
              "      <td>std</td>\n",
              "      <td>two</td>\n",
              "      <td>convertible</td>\n",
              "      <td>rwd</td>\n",
              "      <td>front</td>\n",
              "      <td>88.6</td>\n",
              "      <td>168.8</td>\n",
              "      <td>64.1</td>\n",
              "      <td>48.8</td>\n",
              "      <td>2548</td>\n",
              "      <td>dohc</td>\n",
              "      <td>four</td>\n",
              "      <td>130</td>\n",
              "      <td>mpfi</td>\n",
              "      <td>3.47</td>\n",
              "      <td>2.68</td>\n",
              "      <td>9.0</td>\n",
              "      <td>111.0</td>\n",
              "      <td>5000</td>\n",
              "      <td>21</td>\n",
              "      <td>27</td>\n",
              "      <td>13495.0</td>\n",
              "    </tr>\n",
              "    <tr>\n",
              "      <th>1</th>\n",
              "      <td>3</td>\n",
              "      <td>NaN</td>\n",
              "      <td>alfa-romero</td>\n",
              "      <td>gas</td>\n",
              "      <td>std</td>\n",
              "      <td>two</td>\n",
              "      <td>convertible</td>\n",
              "      <td>rwd</td>\n",
              "      <td>front</td>\n",
              "      <td>88.6</td>\n",
              "      <td>168.8</td>\n",
              "      <td>64.1</td>\n",
              "      <td>48.8</td>\n",
              "      <td>2548</td>\n",
              "      <td>dohc</td>\n",
              "      <td>four</td>\n",
              "      <td>130</td>\n",
              "      <td>mpfi</td>\n",
              "      <td>3.47</td>\n",
              "      <td>2.68</td>\n",
              "      <td>9.0</td>\n",
              "      <td>111.0</td>\n",
              "      <td>5000</td>\n",
              "      <td>21</td>\n",
              "      <td>27</td>\n",
              "      <td>16500.0</td>\n",
              "    </tr>\n",
              "    <tr>\n",
              "      <th>2</th>\n",
              "      <td>1</td>\n",
              "      <td>NaN</td>\n",
              "      <td>alfa-romero</td>\n",
              "      <td>gas</td>\n",
              "      <td>std</td>\n",
              "      <td>two</td>\n",
              "      <td>hatchback</td>\n",
              "      <td>rwd</td>\n",
              "      <td>front</td>\n",
              "      <td>94.5</td>\n",
              "      <td>171.2</td>\n",
              "      <td>65.5</td>\n",
              "      <td>52.4</td>\n",
              "      <td>2823</td>\n",
              "      <td>ohcv</td>\n",
              "      <td>six</td>\n",
              "      <td>152</td>\n",
              "      <td>mpfi</td>\n",
              "      <td>2.68</td>\n",
              "      <td>3.47</td>\n",
              "      <td>9.0</td>\n",
              "      <td>154.0</td>\n",
              "      <td>5000</td>\n",
              "      <td>19</td>\n",
              "      <td>26</td>\n",
              "      <td>16500.0</td>\n",
              "    </tr>\n",
              "    <tr>\n",
              "      <th>3</th>\n",
              "      <td>2</td>\n",
              "      <td>164</td>\n",
              "      <td>audi</td>\n",
              "      <td>gas</td>\n",
              "      <td>std</td>\n",
              "      <td>four</td>\n",
              "      <td>sedan</td>\n",
              "      <td>fwd</td>\n",
              "      <td>front</td>\n",
              "      <td>99.8</td>\n",
              "      <td>176.6</td>\n",
              "      <td>66.2</td>\n",
              "      <td>54.3</td>\n",
              "      <td>2337</td>\n",
              "      <td>ohc</td>\n",
              "      <td>four</td>\n",
              "      <td>109</td>\n",
              "      <td>mpfi</td>\n",
              "      <td>3.19</td>\n",
              "      <td>3.40</td>\n",
              "      <td>10.0</td>\n",
              "      <td>102.0</td>\n",
              "      <td>5500</td>\n",
              "      <td>24</td>\n",
              "      <td>30</td>\n",
              "      <td>13950.0</td>\n",
              "    </tr>\n",
              "    <tr>\n",
              "      <th>4</th>\n",
              "      <td>2</td>\n",
              "      <td>164</td>\n",
              "      <td>audi</td>\n",
              "      <td>gas</td>\n",
              "      <td>std</td>\n",
              "      <td>four</td>\n",
              "      <td>sedan</td>\n",
              "      <td>4wd</td>\n",
              "      <td>front</td>\n",
              "      <td>99.4</td>\n",
              "      <td>176.6</td>\n",
              "      <td>66.4</td>\n",
              "      <td>54.3</td>\n",
              "      <td>2824</td>\n",
              "      <td>ohc</td>\n",
              "      <td>five</td>\n",
              "      <td>136</td>\n",
              "      <td>mpfi</td>\n",
              "      <td>3.19</td>\n",
              "      <td>3.40</td>\n",
              "      <td>8.0</td>\n",
              "      <td>115.0</td>\n",
              "      <td>5500</td>\n",
              "      <td>18</td>\n",
              "      <td>22</td>\n",
              "      <td>17450.0</td>\n",
              "    </tr>\n",
              "    <tr>\n",
              "      <th>5</th>\n",
              "      <td>2</td>\n",
              "      <td>NaN</td>\n",
              "      <td>audi</td>\n",
              "      <td>gas</td>\n",
              "      <td>std</td>\n",
              "      <td>two</td>\n",
              "      <td>sedan</td>\n",
              "      <td>fwd</td>\n",
              "      <td>front</td>\n",
              "      <td>99.8</td>\n",
              "      <td>177.3</td>\n",
              "      <td>66.3</td>\n",
              "      <td>53.1</td>\n",
              "      <td>2507</td>\n",
              "      <td>ohc</td>\n",
              "      <td>five</td>\n",
              "      <td>136</td>\n",
              "      <td>mpfi</td>\n",
              "      <td>3.19</td>\n",
              "      <td>3.40</td>\n",
              "      <td>8.5</td>\n",
              "      <td>110.0</td>\n",
              "      <td>5500</td>\n",
              "      <td>19</td>\n",
              "      <td>25</td>\n",
              "      <td>15250.0</td>\n",
              "    </tr>\n",
              "    <tr>\n",
              "      <th>6</th>\n",
              "      <td>1</td>\n",
              "      <td>158</td>\n",
              "      <td>audi</td>\n",
              "      <td>gas</td>\n",
              "      <td>std</td>\n",
              "      <td>four</td>\n",
              "      <td>sedan</td>\n",
              "      <td>fwd</td>\n",
              "      <td>front</td>\n",
              "      <td>105.8</td>\n",
              "      <td>192.7</td>\n",
              "      <td>71.4</td>\n",
              "      <td>55.7</td>\n",
              "      <td>2844</td>\n",
              "      <td>ohc</td>\n",
              "      <td>five</td>\n",
              "      <td>136</td>\n",
              "      <td>mpfi</td>\n",
              "      <td>3.19</td>\n",
              "      <td>3.40</td>\n",
              "      <td>8.5</td>\n",
              "      <td>110.0</td>\n",
              "      <td>5500</td>\n",
              "      <td>19</td>\n",
              "      <td>25</td>\n",
              "      <td>17710.0</td>\n",
              "    </tr>\n",
              "    <tr>\n",
              "      <th>7</th>\n",
              "      <td>1</td>\n",
              "      <td>NaN</td>\n",
              "      <td>audi</td>\n",
              "      <td>gas</td>\n",
              "      <td>std</td>\n",
              "      <td>four</td>\n",
              "      <td>wagon</td>\n",
              "      <td>fwd</td>\n",
              "      <td>front</td>\n",
              "      <td>105.8</td>\n",
              "      <td>192.7</td>\n",
              "      <td>71.4</td>\n",
              "      <td>55.7</td>\n",
              "      <td>2954</td>\n",
              "      <td>ohc</td>\n",
              "      <td>five</td>\n",
              "      <td>136</td>\n",
              "      <td>mpfi</td>\n",
              "      <td>3.19</td>\n",
              "      <td>3.40</td>\n",
              "      <td>8.5</td>\n",
              "      <td>110.0</td>\n",
              "      <td>5500</td>\n",
              "      <td>19</td>\n",
              "      <td>25</td>\n",
              "      <td>18920.0</td>\n",
              "    </tr>\n",
              "    <tr>\n",
              "      <th>8</th>\n",
              "      <td>1</td>\n",
              "      <td>158</td>\n",
              "      <td>audi</td>\n",
              "      <td>gas</td>\n",
              "      <td>turbo</td>\n",
              "      <td>four</td>\n",
              "      <td>sedan</td>\n",
              "      <td>fwd</td>\n",
              "      <td>front</td>\n",
              "      <td>105.8</td>\n",
              "      <td>192.7</td>\n",
              "      <td>71.4</td>\n",
              "      <td>55.9</td>\n",
              "      <td>3086</td>\n",
              "      <td>ohc</td>\n",
              "      <td>five</td>\n",
              "      <td>131</td>\n",
              "      <td>mpfi</td>\n",
              "      <td>3.13</td>\n",
              "      <td>3.40</td>\n",
              "      <td>8.3</td>\n",
              "      <td>140.0</td>\n",
              "      <td>5500</td>\n",
              "      <td>17</td>\n",
              "      <td>20</td>\n",
              "      <td>23875.0</td>\n",
              "    </tr>\n",
              "    <tr>\n",
              "      <th>9</th>\n",
              "      <td>0</td>\n",
              "      <td>NaN</td>\n",
              "      <td>audi</td>\n",
              "      <td>gas</td>\n",
              "      <td>turbo</td>\n",
              "      <td>two</td>\n",
              "      <td>hatchback</td>\n",
              "      <td>4wd</td>\n",
              "      <td>front</td>\n",
              "      <td>99.5</td>\n",
              "      <td>178.2</td>\n",
              "      <td>67.9</td>\n",
              "      <td>52.0</td>\n",
              "      <td>3053</td>\n",
              "      <td>ohc</td>\n",
              "      <td>five</td>\n",
              "      <td>131</td>\n",
              "      <td>mpfi</td>\n",
              "      <td>3.13</td>\n",
              "      <td>3.40</td>\n",
              "      <td>7.0</td>\n",
              "      <td>160.0</td>\n",
              "      <td>5500</td>\n",
              "      <td>16</td>\n",
              "      <td>22</td>\n",
              "      <td>13207.0</td>\n",
              "    </tr>\n",
              "  </tbody>\n",
              "</table>\n",
              "</div>"
            ],
            "text/plain": [
              "   symboling normalized-losses         make  ... city-mpg highway-mpg    price\n",
              "0          3               NaN  alfa-romero  ...       21          27  13495.0\n",
              "1          3               NaN  alfa-romero  ...       21          27  16500.0\n",
              "2          1               NaN  alfa-romero  ...       19          26  16500.0\n",
              "3          2               164         audi  ...       24          30  13950.0\n",
              "4          2               164         audi  ...       18          22  17450.0\n",
              "5          2               NaN         audi  ...       19          25  15250.0\n",
              "6          1               158         audi  ...       19          25  17710.0\n",
              "7          1               NaN         audi  ...       19          25  18920.0\n",
              "8          1               158         audi  ...       17          20  23875.0\n",
              "9          0               NaN         audi  ...       16          22  13207.0\n",
              "\n",
              "[10 rows x 26 columns]"
            ]
          },
          "metadata": {
            "tags": []
          },
          "execution_count": 4
        }
      ]
    },
    {
      "cell_type": "code",
      "metadata": {
        "id": "wLODDAE43bZ6",
        "colab_type": "code",
        "colab": {
          "base_uri": "https://localhost:8080/",
          "height": 34
        },
        "outputId": "de11feb1-58d9-45b9-94ac-4c888e352510"
      },
      "source": [
        "df.shape"
      ],
      "execution_count": 5,
      "outputs": [
        {
          "output_type": "execute_result",
          "data": {
            "text/plain": [
              "(205, 26)"
            ]
          },
          "metadata": {
            "tags": []
          },
          "execution_count": 5
        }
      ]
    },
    {
      "cell_type": "code",
      "metadata": {
        "id": "bIav-pCn3ffp",
        "colab_type": "code",
        "colab": {
          "base_uri": "https://localhost:8080/",
          "height": 598
        },
        "outputId": "83bab4d6-4ca0-4e9a-9db1-e8e4e16bc6d4"
      },
      "source": [
        "df.info()"
      ],
      "execution_count": 6,
      "outputs": [
        {
          "output_type": "stream",
          "text": [
            "<class 'pandas.core.frame.DataFrame'>\n",
            "RangeIndex: 205 entries, 0 to 204\n",
            "Data columns (total 26 columns):\n",
            " #   Column             Non-Null Count  Dtype  \n",
            "---  ------             --------------  -----  \n",
            " 0   symboling          205 non-null    int64  \n",
            " 1   normalized-losses  164 non-null    object \n",
            " 2   make               205 non-null    object \n",
            " 3   fuel-type          205 non-null    object \n",
            " 4   aspiration         205 non-null    object \n",
            " 5   num-of-doors       203 non-null    object \n",
            " 6   body-style         205 non-null    object \n",
            " 7   drive-wheels       205 non-null    object \n",
            " 8   engine-location    205 non-null    object \n",
            " 9   wheel-base         205 non-null    float64\n",
            " 10  length             205 non-null    float64\n",
            " 11  width              205 non-null    float64\n",
            " 12  height             205 non-null    float64\n",
            " 13  curb-weight        205 non-null    int64  \n",
            " 14  engine-type        205 non-null    object \n",
            " 15  num-of-cylinders   205 non-null    object \n",
            " 16  engine-size        205 non-null    int64  \n",
            " 17  fuel-system        205 non-null    object \n",
            " 18  bore               201 non-null    object \n",
            " 19  stroke             201 non-null    object \n",
            " 20  compression-ratio  205 non-null    float64\n",
            " 21  horsepower         205 non-null    float64\n",
            " 22  peak-rpm           203 non-null    object \n",
            " 23  city-mpg           205 non-null    int64  \n",
            " 24  highway-mpg        205 non-null    int64  \n",
            " 25  price              205 non-null    float64\n",
            "dtypes: float64(7), int64(5), object(14)\n",
            "memory usage: 41.8+ KB\n"
          ],
          "name": "stdout"
        }
      ]
    },
    {
      "cell_type": "code",
      "metadata": {
        "id": "ch7MjYaXKTNM",
        "colab_type": "code",
        "colab": {
          "base_uri": "https://localhost:8080/",
          "height": 334
        },
        "outputId": "bd11f162-bfec-490b-aa89-fa8ad16bdfef"
      },
      "source": [
        "import seaborn as sns\n",
        "ax=sns.regplot(x='highway-mpg',y='price',data=df)"
      ],
      "execution_count": 7,
      "outputs": [
        {
          "output_type": "stream",
          "text": [
            "/usr/local/lib/python3.6/dist-packages/statsmodels/tools/_testing.py:19: FutureWarning: pandas.util.testing is deprecated. Use the functions in the public API at pandas.testing instead.\n",
            "  import pandas.util.testing as tm\n"
          ],
          "name": "stderr"
        },
        {
          "output_type": "display_data",
          "data": {
            "image/png": "[encoded data removed]",
            "text/plain": [
              "<Figure size 432x288 with 1 Axes>"
            ]
          },
          "metadata": {
            "tags": [],
            "needs_background": "light"
          }
        }
      ]
    },
    {
      "cell_type": "code",
      "metadata": {
        "id": "mPy8srQLhR1w",
        "colab_type": "code",
        "colab": {
          "base_uri": "https://localhost:8080/",
          "height": 281
        },
        "outputId": "542f25ff-631c-4480-e01c-799e889818a6"
      },
      "source": [
        "ax=sns.regplot(x='horsepower',y='price',data=df)"
      ],
      "execution_count": 8,
      "outputs": [
        {
          "output_type": "display_data",
          "data": {
            "image/png": "[encoded data removed]",
            "text/plain": [
              "<Figure size 432x288 with 1 Axes>"
            ]
          },
          "metadata": {
            "tags": [],
            "needs_background": "light"
          }
        }
      ]
    },
    {
      "cell_type": "code",
      "metadata": {
        "id": "N3UNiYDNhU-w",
        "colab_type": "code",
        "colab": {
          "base_uri": "https://localhost:8080/",
          "height": 279
        },
        "outputId": "ba6345be-daf8-4118-88dc-a7c76422969f"
      },
      "source": [
        "ax=sns.regplot(x='curb-weight',y='price',data=df)"
      ],
      "execution_count": 9,
      "outputs": [
        {
          "output_type": "display_data",
          "data": {
            "image/png": "[encoded data removed]",
            "text/plain": [
              "<Figure size 432x288 with 1 Axes>"
            ]
          },
          "metadata": {
            "tags": [],
            "needs_background": "light"
          }
        }
      ]
    },
    {
      "cell_type": "code",
      "metadata": {
        "id": "eXa6dDkyhlsK",
        "colab_type": "code",
        "colab": {
          "base_uri": "https://localhost:8080/",
          "height": 279
        },
        "outputId": "aff77b7c-b166-40f2-9074-590b4ae5c52d"
      },
      "source": [
        "ax=sns.regplot(x='engine-size',y='price',data=df)"
      ],
      "execution_count": 10,
      "outputs": [
        {
          "output_type": "display_data",
          "data": {
            "image/png": "[encoded data removed]",
            "text/plain": [
              "<Figure size 432x288 with 1 Axes>"
            ]
          },
          "metadata": {
            "tags": [],
            "needs_background": "light"
          }
        }
      ]
    },
    {
      "cell_type": "code",
      "metadata": {
        "id": "ni4u3B5DUMv_",
        "colab_type": "code",
        "colab": {}
      },
      "source": [
        "from sklearn.model_selection import train_test_split\n",
        "x=df[['highway-mpg','horsepower','curb-weight', 'engine-size']]\n",
        "y=df['price']\n",
        "#split the data into training and testing sets.\n",
        "x_train, x_test, y_train, y_test = train_test_split(x, y, test_size=0.20, random_state=1)"
      ],
      "execution_count": 11,
      "outputs": []
    },
    {
      "cell_type": "code",
      "metadata": {
        "id": "UL1H5GvRL5UB",
        "colab_type": "code",
        "colab": {
          "base_uri": "https://localhost:8080/",
          "height": 1000
        },
        "outputId": "fa12a45a-157a-420d-da08-f5569d1e493e"
      },
      "source": [
        "model=keras.Sequential([keras.layers.Dense(1,input_shape=[4,])])\n",
        "model.compile(optimizer=Adam(0.1),loss='mean_squared_error')\n",
        "history=model.fit(x_train,y_train,validation_split=0.25,epochs=70)\n"
      ],
      "execution_count": 24,
      "outputs": [
        {
          "output_type": "stream",
          "text": [
            "Epoch 1/70\n",
            "4/4 [==============================] - 0s 26ms/step - loss: 174525136.0000 - val_loss: 155673216.0000\n",
            "Epoch 2/70\n",
            "4/4 [==============================] - 0s 6ms/step - loss: 147802096.0000 - val_loss: 132223304.0000\n",
            "Epoch 3/70\n",
            "4/4 [==============================] - 0s 5ms/step - loss: 124792632.0000 - val_loss: 111613680.0000\n",
            "Epoch 4/70\n",
            "4/4 [==============================] - 0s 6ms/step - loss: 104952440.0000 - val_loss: 93802536.0000\n",
            "Epoch 5/70\n",
            "4/4 [==============================] - 0s 6ms/step - loss: 87912408.0000 - val_loss: 78870912.0000\n",
            "Epoch 6/70\n",
            "4/4 [==============================] - 0s 5ms/step - loss: 73132424.0000 - val_loss: 66820896.0000\n",
            "Epoch 7/70\n",
            "4/4 [==============================] - 0s 6ms/step - loss: 61915424.0000 - val_loss: 57219536.0000\n",
            "Epoch 8/70\n",
            "4/4 [==============================] - 0s 6ms/step - loss: 53780684.0000 - val_loss: 49738900.0000\n",
            "Epoch 9/70\n",
            "4/4 [==============================] - 0s 5ms/step - loss: 46226644.0000 - val_loss: 44437548.0000\n",
            "Epoch 10/70\n",
            "4/4 [==============================] - 0s 5ms/step - loss: 41423372.0000 - val_loss: 40684496.0000\n",
            "Epoch 11/70\n",
            "4/4 [==============================] - 0s 6ms/step - loss: 38067348.0000 - val_loss: 38157344.0000\n",
            "Epoch 12/70\n",
            "4/4 [==============================] - 0s 7ms/step - loss: 35943332.0000 - val_loss: 36535856.0000\n",
            "Epoch 13/70\n",
            "4/4 [==============================] - 0s 6ms/step - loss: 34723428.0000 - val_loss: 35565744.0000\n",
            "Epoch 14/70\n",
            "4/4 [==============================] - 0s 8ms/step - loss: 33836980.0000 - val_loss: 35066816.0000\n",
            "Epoch 15/70\n",
            "4/4 [==============================] - 0s 10ms/step - loss: 33563220.0000 - val_loss: 34828504.0000\n",
            "Epoch 16/70\n",
            "4/4 [==============================] - 0s 8ms/step - loss: 33322462.0000 - val_loss: 34748236.0000\n",
            "Epoch 17/70\n",
            "4/4 [==============================] - 0s 7ms/step - loss: 33198804.0000 - val_loss: 34729888.0000\n",
            "Epoch 18/70\n",
            "4/4 [==============================] - 0s 6ms/step - loss: 33225774.0000 - val_loss: 34730180.0000\n",
            "Epoch 19/70\n",
            "4/4 [==============================] - 0s 7ms/step - loss: 33289410.0000 - val_loss: 34738864.0000\n",
            "Epoch 20/70\n",
            "4/4 [==============================] - 0s 6ms/step - loss: 33255282.0000 - val_loss: 34724152.0000\n",
            "Epoch 21/70\n",
            "4/4 [==============================] - 0s 6ms/step - loss: 33233982.0000 - val_loss: 34698912.0000\n",
            "Epoch 22/70\n",
            "4/4 [==============================] - 0s 6ms/step - loss: 33202214.0000 - val_loss: 34669304.0000\n",
            "Epoch 23/70\n",
            "4/4 [==============================] - 0s 6ms/step - loss: 33160142.0000 - val_loss: 34635544.0000\n",
            "Epoch 24/70\n",
            "4/4 [==============================] - 0s 8ms/step - loss: 33118574.0000 - val_loss: 34594892.0000\n",
            "Epoch 25/70\n",
            "4/4 [==============================] - 0s 6ms/step - loss: 33070888.0000 - val_loss: 34563288.0000\n",
            "Epoch 26/70\n",
            "4/4 [==============================] - 0s 6ms/step - loss: 33030618.0000 - val_loss: 34526356.0000\n",
            "Epoch 27/70\n",
            "4/4 [==============================] - 0s 6ms/step - loss: 32986100.0000 - val_loss: 34495232.0000\n",
            "Epoch 28/70\n",
            "4/4 [==============================] - 0s 6ms/step - loss: 32957986.0000 - val_loss: 34467792.0000\n",
            "Epoch 29/70\n",
            "4/4 [==============================] - 0s 6ms/step - loss: 32905152.0000 - val_loss: 34440572.0000\n",
            "Epoch 30/70\n",
            "4/4 [==============================] - 0s 6ms/step - loss: 32881548.0000 - val_loss: 34414604.0000\n",
            "Epoch 31/70\n",
            "4/4 [==============================] - 0s 6ms/step - loss: 32851830.0000 - val_loss: 34390500.0000\n",
            "Epoch 32/70\n",
            "4/4 [==============================] - 0s 5ms/step - loss: 32807068.0000 - val_loss: 34365296.0000\n",
            "Epoch 33/70\n",
            "4/4 [==============================] - 0s 6ms/step - loss: 32820182.0000 - val_loss: 34334496.0000\n",
            "Epoch 34/70\n",
            "4/4 [==============================] - 0s 5ms/step - loss: 32743316.0000 - val_loss: 34308536.0000\n",
            "Epoch 35/70\n",
            "4/4 [==============================] - 0s 6ms/step - loss: 32696082.0000 - val_loss: 34280156.0000\n",
            "Epoch 36/70\n",
            "4/4 [==============================] - 0s 5ms/step - loss: 32655690.0000 - val_loss: 34251604.0000\n",
            "Epoch 37/70\n",
            "4/4 [==============================] - 0s 6ms/step - loss: 32619296.0000 - val_loss: 34223348.0000\n",
            "Epoch 38/70\n",
            "4/4 [==============================] - 0s 5ms/step - loss: 32574964.0000 - val_loss: 34195188.0000\n",
            "Epoch 39/70\n",
            "4/4 [==============================] - 0s 6ms/step - loss: 32543062.0000 - val_loss: 34166336.0000\n",
            "Epoch 40/70\n",
            "4/4 [==============================] - 0s 6ms/step - loss: 32516808.0000 - val_loss: 34136624.0000\n",
            "Epoch 41/70\n",
            "4/4 [==============================] - 0s 6ms/step - loss: 32511746.0000 - val_loss: 34107412.0000\n",
            "Epoch 42/70\n",
            "4/4 [==============================] - 0s 6ms/step - loss: 32427332.0000 - val_loss: 34077724.0000\n",
            "Epoch 43/70\n",
            "4/4 [==============================] - 0s 8ms/step - loss: 32383044.0000 - val_loss: 34048304.0000\n",
            "Epoch 44/70\n",
            "4/4 [==============================] - 0s 9ms/step - loss: 32336634.0000 - val_loss: 34018240.0000\n",
            "Epoch 45/70\n",
            "4/4 [==============================] - 0s 7ms/step - loss: 32313868.0000 - val_loss: 33990776.0000\n",
            "Epoch 46/70\n",
            "4/4 [==============================] - 0s 6ms/step - loss: 32266682.0000 - val_loss: 33960628.0000\n",
            "Epoch 47/70\n",
            "4/4 [==============================] - 0s 9ms/step - loss: 32252634.0000 - val_loss: 33926960.0000\n",
            "Epoch 48/70\n",
            "4/4 [==============================] - 0s 6ms/step - loss: 32170906.0000 - val_loss: 33896224.0000\n",
            "Epoch 49/70\n",
            "4/4 [==============================] - 0s 6ms/step - loss: 32133838.0000 - val_loss: 33865152.0000\n",
            "Epoch 50/70\n",
            "4/4 [==============================] - 0s 6ms/step - loss: 32143148.0000 - val_loss: 33834232.0000\n",
            "Epoch 51/70\n",
            "4/4 [==============================] - 0s 6ms/step - loss: 32040198.0000 - val_loss: 33802572.0000\n",
            "Epoch 52/70\n",
            "4/4 [==============================] - 0s 6ms/step - loss: 32000554.0000 - val_loss: 33772280.0000\n",
            "Epoch 53/70\n",
            "4/4 [==============================] - 0s 6ms/step - loss: 31998460.0000 - val_loss: 33744168.0000\n",
            "Epoch 54/70\n",
            "4/4 [==============================] - 0s 6ms/step - loss: 31916470.0000 - val_loss: 33710408.0000\n",
            "Epoch 55/70\n",
            "4/4 [==============================] - 0s 7ms/step - loss: 31868632.0000 - val_loss: 33675828.0000\n",
            "Epoch 56/70\n",
            "4/4 [==============================] - 0s 6ms/step - loss: 31815098.0000 - val_loss: 33642140.0000\n",
            "Epoch 57/70\n",
            "4/4 [==============================] - 0s 8ms/step - loss: 31836648.0000 - val_loss: 33610048.0000\n",
            "Epoch 58/70\n",
            "4/4 [==============================] - 0s 5ms/step - loss: 31737568.0000 - val_loss: 33575888.0000\n",
            "Epoch 59/70\n",
            "4/4 [==============================] - 0s 6ms/step - loss: 31690454.0000 - val_loss: 33544922.0000\n",
            "Epoch 60/70\n",
            "4/4 [==============================] - 0s 5ms/step - loss: 31641546.0000 - val_loss: 33513654.0000\n",
            "Epoch 61/70\n",
            "4/4 [==============================] - 0s 6ms/step - loss: 31653142.0000 - val_loss: 33476748.0000\n",
            "Epoch 62/70\n",
            "4/4 [==============================] - 0s 6ms/step - loss: 31546630.0000 - val_loss: 33444112.0000\n",
            "Epoch 63/70\n",
            "4/4 [==============================] - 0s 6ms/step - loss: 31503536.0000 - val_loss: 33410392.0000\n",
            "Epoch 64/70\n",
            "4/4 [==============================] - 0s 7ms/step - loss: 31473380.0000 - val_loss: 33380470.0000\n",
            "Epoch 65/70\n",
            "4/4 [==============================] - 0s 6ms/step - loss: 31441828.0000 - val_loss: 33344868.0000\n",
            "Epoch 66/70\n",
            "4/4 [==============================] - 0s 7ms/step - loss: 31379218.0000 - val_loss: 33312700.0000\n",
            "Epoch 67/70\n",
            "4/4 [==============================] - 0s 6ms/step - loss: 31317088.0000 - val_loss: 33278938.0000\n",
            "Epoch 68/70\n",
            "4/4 [==============================] - 0s 6ms/step - loss: 31278258.0000 - val_loss: 33245500.0000\n",
            "Epoch 69/70\n",
            "4/4 [==============================] - 0s 6ms/step - loss: 31226860.0000 - val_loss: 33211282.0000\n",
            "Epoch 70/70\n",
            "4/4 [==============================] - 0s 7ms/step - loss: 31189778.0000 - val_loss: 33176998.0000\n"
          ],
          "name": "stdout"
        }
      ]
    },
    {
      "cell_type": "code",
      "metadata": {
        "id": "QaQBaDJBswwF",
        "colab_type": "code",
        "colab": {
          "base_uri": "https://localhost:8080/",
          "height": 295
        },
        "outputId": "02c8688b-f15e-4abc-d207-8d70f4738b90"
      },
      "source": [
        "import matplotlib.pyplot as plt\n",
        "plt.plot(history.history['loss'])\n",
        "plt.plot(history.history['val_loss'])\n",
        "plt.title('model loss')\n",
        "plt.ylabel('loss')\n",
        "plt.xlabel('epoch')\n",
        "plt.legend(['train', 'validation'], loc='upper left')\n",
        "plt.show()"
      ],
      "execution_count": 25,
      "outputs": [
        {
          "output_type": "display_data",
          "data": {
            "image/png": "[encoded data removed]",
            "text/plain": [
              "<Figure size 432x288 with 1 Axes>"
            ]
          },
          "metadata": {
            "tags": [],
            "needs_background": "light"
          }
        }
      ]
    },
    {
      "cell_type": "code",
      "metadata": {
        "id": "ZrrdyK6-S3zv",
        "colab_type": "code",
        "colab": {
          "base_uri": "https://localhost:8080/",
          "height": 34
        },
        "outputId": "7c8bb7c6-eef7-4847-fbca-2666b7e2aad9"
      },
      "source": [
        "print(model.predict([[27,111,2548,130]]))"
      ],
      "execution_count": 26,
      "outputs": [
        {
          "output_type": "stream",
          "text": [
            "[[14036.569]]\n"
          ],
          "name": "stdout"
        }
      ]
    },
    {
      "cell_type": "code",
      "metadata": {
        "id": "v4rUQjb0M3fR",
        "colab_type": "code",
        "colab": {
          "base_uri": "https://localhost:8080/",
          "height": 105
        },
        "outputId": "c3859391-bec1-458b-c67b-012df1fa8bf7"
      },
      "source": [
        "#coefficients of the model\n",
        "print('Coefficients: \\n',model.get_weights())"
      ],
      "execution_count": 27,
      "outputs": [
        {
          "output_type": "stream",
          "text": [
            "Coefficients: \n",
            " [array([[-7.035392 ],\n",
            "       [ 8.794264 ],\n",
            "       [ 4.7953725],\n",
            "       [ 7.9413958]], dtype=float32), array([-0.62867075], dtype=float32)]\n"
          ],
          "name": "stdout"
        }
      ]
    },
    {
      "cell_type": "code",
      "metadata": {
        "id": "dG56WBxZVIGb",
        "colab_type": "code",
        "colab": {
          "base_uri": "https://localhost:8080/",
          "height": 193
        },
        "outputId": "a5810a8e-fb46-4604-a767-e55061208a16"
      },
      "source": [
        "model.summary()"
      ],
      "execution_count": 28,
      "outputs": [
        {
          "output_type": "stream",
          "text": [
            "Model: \"sequential_3\"\n",
            "_________________________________________________________________\n",
            "Layer (type)                 Output Shape              Param #   \n",
            "=================================================================\n",
            "dense_3 (Dense)              (None, 1)                 5         \n",
            "=================================================================\n",
            "Total params: 5\n",
            "Trainable params: 5\n",
            "Non-trainable params: 0\n",
            "_________________________________________________________________\n"
          ],
          "name": "stdout"
        }
      ]
    },
    {
      "cell_type": "code",
      "metadata": {
        "id": "nFwPBdflGGgV",
        "colab_type": "code",
        "colab": {
          "base_uri": "https://localhost:8080/",
          "height": 70
        },
        "outputId": "db397ffa-d8e5-4971-a535-0564efbb6888"
      },
      "source": [
        "from sklearn.metrics import mean_absolute_error,mean_squared_error,r2_score\n",
        "y_prediction=model.predict(x_test)\n",
        "print(r2_score(y_prediction,y_test))\n",
        "print(mean_absolute_error(y_prediction,y_test))\n",
        "print(mean_squared_error(y_prediction,y_test))"
      ],
      "execution_count": 29,
      "outputs": [
        {
          "output_type": "stream",
          "text": [
            "-1.8166779484977358\n",
            "3926.0964891387193\n",
            "26051806.19585486\n"
          ],
          "name": "stdout"
        }
      ]
    },
    {
      "cell_type": "code",
      "metadata": {
        "id": "Q8ei-rvgNJmu",
        "colab_type": "code",
        "colab": {
          "base_uri": "https://localhost:8080/",
          "height": 297
        },
        "outputId": "90a13a5e-ad67-4ef5-d68d-69ba74c17779"
      },
      "source": [
        "import matplotlib.pyplot as plt\n",
        "#scatterplot of the Y test versus the Y predicted values\n",
        "plt.scatter(y_test,y_prediction)\n",
        "plt.xlabel('Y Test')\n",
        "plt.ylabel('Y Predicted')"
      ],
      "execution_count": 30,
      "outputs": [
        {
          "output_type": "execute_result",
          "data": {
            "text/plain": [
              "Text(0, 0.5, 'Y Predicted')"
            ]
          },
          "metadata": {
            "tags": []
          },
          "execution_count": 30
        },
        {
          "output_type": "display_data",
          "data": {
            "image/png": "[encoded data removed]",
            "text/plain": [
              "<Figure size 432x288 with 1 Axes>"
            ]
          },
          "metadata": {
            "tags": [],
            "needs_background": "light"
          }
        }
      ]
    }
  ]
}